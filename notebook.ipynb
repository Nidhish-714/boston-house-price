{
 "cells": [
  {
   "cell_type": "code",
   "execution_count": 50,
   "metadata": {},
   "outputs": [],
   "source": [
    "import pickle"
   ]
  },
  {
   "cell_type": "code",
   "execution_count": 80,
   "metadata": {},
   "outputs": [],
   "source": [
    "import numpy as np\n",
    "import pandas as pd\n",
    "df = pd.read_csv('data.csv')"
   ]
  },
  {
   "cell_type": "code",
   "execution_count": 81,
   "metadata": {},
   "outputs": [],
   "source": [
    "df.drop('Sr. no',axis=1,inplace=True)"
   ]
  },
  {
   "cell_type": "code",
   "execution_count": 82,
   "metadata": {},
   "outputs": [
    {
     "data": {
      "text/html": [
       "<div>\n",
       "<style scoped>\n",
       "    .dataframe tbody tr th:only-of-type {\n",
       "        vertical-align: middle;\n",
       "    }\n",
       "\n",
       "    .dataframe tbody tr th {\n",
       "        vertical-align: top;\n",
       "    }\n",
       "\n",
       "    .dataframe thead th {\n",
       "        text-align: right;\n",
       "    }\n",
       "</style>\n",
       "<table border=\"1\" class=\"dataframe\">\n",
       "  <thead>\n",
       "    <tr style=\"text-align: right;\">\n",
       "      <th></th>\n",
       "      <th>DHTTemp</th>\n",
       "      <th>DS18bTemp</th>\n",
       "      <th>Humidity</th>\n",
       "      <th>BloodPre1</th>\n",
       "      <th>BloodPre2</th>\n",
       "      <th>BMP</th>\n",
       "      <th>Oxygen Level (%)</th>\n",
       "      <th>Age</th>\n",
       "      <th>Gender-Text</th>\n",
       "      <th>Smoking (Yes/No)</th>\n",
       "      <th>History of Heart Disease-Text</th>\n",
       "      <th>History of Stroke-Text</th>\n",
       "      <th>Heatstroke</th>\n",
       "      <th>Gender</th>\n",
       "      <th>Smoking</th>\n",
       "      <th>Heart Disease History</th>\n",
       "      <th>Stroke History</th>\n",
       "    </tr>\n",
       "  </thead>\n",
       "  <tbody>\n",
       "    <tr>\n",
       "      <th>0</th>\n",
       "      <td>29</td>\n",
       "      <td>35.7</td>\n",
       "      <td>75</td>\n",
       "      <td>128</td>\n",
       "      <td>82</td>\n",
       "      <td>68</td>\n",
       "      <td>94</td>\n",
       "      <td>52</td>\n",
       "      <td>Male</td>\n",
       "      <td>No</td>\n",
       "      <td>Yes</td>\n",
       "      <td>No</td>\n",
       "      <td>24</td>\n",
       "      <td>0</td>\n",
       "      <td>0</td>\n",
       "      <td>1</td>\n",
       "      <td>0</td>\n",
       "    </tr>\n",
       "    <tr>\n",
       "      <th>1</th>\n",
       "      <td>29</td>\n",
       "      <td>35.4</td>\n",
       "      <td>72</td>\n",
       "      <td>135</td>\n",
       "      <td>88</td>\n",
       "      <td>78</td>\n",
       "      <td>92</td>\n",
       "      <td>63</td>\n",
       "      <td>Male</td>\n",
       "      <td>No</td>\n",
       "      <td>No</td>\n",
       "      <td>No</td>\n",
       "      <td>29</td>\n",
       "      <td>0</td>\n",
       "      <td>0</td>\n",
       "      <td>0</td>\n",
       "      <td>0</td>\n",
       "    </tr>\n",
       "    <tr>\n",
       "      <th>2</th>\n",
       "      <td>32</td>\n",
       "      <td>36.0</td>\n",
       "      <td>40</td>\n",
       "      <td>125</td>\n",
       "      <td>82</td>\n",
       "      <td>72</td>\n",
       "      <td>96</td>\n",
       "      <td>30</td>\n",
       "      <td>Female</td>\n",
       "      <td>No</td>\n",
       "      <td>No</td>\n",
       "      <td>No</td>\n",
       "      <td>19</td>\n",
       "      <td>1</td>\n",
       "      <td>0</td>\n",
       "      <td>0</td>\n",
       "      <td>0</td>\n",
       "    </tr>\n",
       "    <tr>\n",
       "      <th>3</th>\n",
       "      <td>39</td>\n",
       "      <td>38.6</td>\n",
       "      <td>75</td>\n",
       "      <td>122</td>\n",
       "      <td>78</td>\n",
       "      <td>68</td>\n",
       "      <td>98</td>\n",
       "      <td>20</td>\n",
       "      <td>Male</td>\n",
       "      <td>No</td>\n",
       "      <td>No</td>\n",
       "      <td>No</td>\n",
       "      <td>16</td>\n",
       "      <td>0</td>\n",
       "      <td>0</td>\n",
       "      <td>0</td>\n",
       "      <td>0</td>\n",
       "    </tr>\n",
       "    <tr>\n",
       "      <th>4</th>\n",
       "      <td>32</td>\n",
       "      <td>36.1</td>\n",
       "      <td>72</td>\n",
       "      <td>138</td>\n",
       "      <td>88</td>\n",
       "      <td>82</td>\n",
       "      <td>92</td>\n",
       "      <td>63</td>\n",
       "      <td>Male</td>\n",
       "      <td>No</td>\n",
       "      <td>No</td>\n",
       "      <td>No</td>\n",
       "      <td>39</td>\n",
       "      <td>0</td>\n",
       "      <td>0</td>\n",
       "      <td>0</td>\n",
       "      <td>0</td>\n",
       "    </tr>\n",
       "  </tbody>\n",
       "</table>\n",
       "</div>"
      ],
      "text/plain": [
       "   DHTTemp  DS18bTemp  Humidity  BloodPre1  BloodPre2  BMP  Oxygen Level (%)  \\\n",
       "0       29       35.7        75        128         82   68                94   \n",
       "1       29       35.4        72        135         88   78                92   \n",
       "2       32       36.0        40        125         82   72                96   \n",
       "3       39       38.6        75        122         78   68                98   \n",
       "4       32       36.1        72        138         88   82                92   \n",
       "\n",
       "   Age Gender-Text Smoking (Yes/No) History of Heart Disease-Text  \\\n",
       "0   52        Male               No                           Yes   \n",
       "1   63        Male               No                            No   \n",
       "2   30      Female               No                            No   \n",
       "3   20        Male               No                            No   \n",
       "4   63        Male               No                            No   \n",
       "\n",
       "  History of Stroke-Text  Heatstroke  Gender  Smoking  Heart Disease History  \\\n",
       "0                     No          24       0        0                      1   \n",
       "1                     No          29       0        0                      0   \n",
       "2                     No          19       1        0                      0   \n",
       "3                     No          16       0        0                      0   \n",
       "4                     No          39       0        0                      0   \n",
       "\n",
       "   Stroke History  \n",
       "0               0  \n",
       "1               0  \n",
       "2               0  \n",
       "3               0  \n",
       "4               0  "
      ]
     },
     "execution_count": 82,
     "metadata": {},
     "output_type": "execute_result"
    }
   ],
   "source": [
    "df.head()"
   ]
  },
  {
   "cell_type": "code",
   "execution_count": 83,
   "metadata": {},
   "outputs": [],
   "source": [
    "df.drop(['Gender-Text', 'Smoking (Yes/No)', 'History of Heart Disease-Text',\n",
    "       'History of Stroke-Text'],axis=1 , inplace=True)"
   ]
  },
  {
   "cell_type": "code",
   "execution_count": 84,
   "metadata": {},
   "outputs": [
    {
     "data": {
      "text/html": [
       "<div>\n",
       "<style scoped>\n",
       "    .dataframe tbody tr th:only-of-type {\n",
       "        vertical-align: middle;\n",
       "    }\n",
       "\n",
       "    .dataframe tbody tr th {\n",
       "        vertical-align: top;\n",
       "    }\n",
       "\n",
       "    .dataframe thead th {\n",
       "        text-align: right;\n",
       "    }\n",
       "</style>\n",
       "<table border=\"1\" class=\"dataframe\">\n",
       "  <thead>\n",
       "    <tr style=\"text-align: right;\">\n",
       "      <th></th>\n",
       "      <th>DHTTemp</th>\n",
       "      <th>DS18bTemp</th>\n",
       "      <th>Humidity</th>\n",
       "      <th>BloodPre1</th>\n",
       "      <th>BloodPre2</th>\n",
       "      <th>BMP</th>\n",
       "      <th>Oxygen Level (%)</th>\n",
       "      <th>Age</th>\n",
       "      <th>Heatstroke</th>\n",
       "      <th>Gender</th>\n",
       "      <th>Smoking</th>\n",
       "      <th>Heart Disease History</th>\n",
       "      <th>Stroke History</th>\n",
       "    </tr>\n",
       "  </thead>\n",
       "  <tbody>\n",
       "    <tr>\n",
       "      <th>0</th>\n",
       "      <td>29</td>\n",
       "      <td>35.7</td>\n",
       "      <td>75</td>\n",
       "      <td>128</td>\n",
       "      <td>82</td>\n",
       "      <td>68</td>\n",
       "      <td>94</td>\n",
       "      <td>52</td>\n",
       "      <td>24</td>\n",
       "      <td>0</td>\n",
       "      <td>0</td>\n",
       "      <td>1</td>\n",
       "      <td>0</td>\n",
       "    </tr>\n",
       "    <tr>\n",
       "      <th>1</th>\n",
       "      <td>29</td>\n",
       "      <td>35.4</td>\n",
       "      <td>72</td>\n",
       "      <td>135</td>\n",
       "      <td>88</td>\n",
       "      <td>78</td>\n",
       "      <td>92</td>\n",
       "      <td>63</td>\n",
       "      <td>29</td>\n",
       "      <td>0</td>\n",
       "      <td>0</td>\n",
       "      <td>0</td>\n",
       "      <td>0</td>\n",
       "    </tr>\n",
       "    <tr>\n",
       "      <th>2</th>\n",
       "      <td>32</td>\n",
       "      <td>36.0</td>\n",
       "      <td>40</td>\n",
       "      <td>125</td>\n",
       "      <td>82</td>\n",
       "      <td>72</td>\n",
       "      <td>96</td>\n",
       "      <td>30</td>\n",
       "      <td>19</td>\n",
       "      <td>1</td>\n",
       "      <td>0</td>\n",
       "      <td>0</td>\n",
       "      <td>0</td>\n",
       "    </tr>\n",
       "    <tr>\n",
       "      <th>3</th>\n",
       "      <td>39</td>\n",
       "      <td>38.6</td>\n",
       "      <td>75</td>\n",
       "      <td>122</td>\n",
       "      <td>78</td>\n",
       "      <td>68</td>\n",
       "      <td>98</td>\n",
       "      <td>20</td>\n",
       "      <td>16</td>\n",
       "      <td>0</td>\n",
       "      <td>0</td>\n",
       "      <td>0</td>\n",
       "      <td>0</td>\n",
       "    </tr>\n",
       "    <tr>\n",
       "      <th>4</th>\n",
       "      <td>32</td>\n",
       "      <td>36.1</td>\n",
       "      <td>72</td>\n",
       "      <td>138</td>\n",
       "      <td>88</td>\n",
       "      <td>82</td>\n",
       "      <td>92</td>\n",
       "      <td>63</td>\n",
       "      <td>39</td>\n",
       "      <td>0</td>\n",
       "      <td>0</td>\n",
       "      <td>0</td>\n",
       "      <td>0</td>\n",
       "    </tr>\n",
       "  </tbody>\n",
       "</table>\n",
       "</div>"
      ],
      "text/plain": [
       "   DHTTemp  DS18bTemp  Humidity  BloodPre1  BloodPre2  BMP  Oxygen Level (%)  \\\n",
       "0       29       35.7        75        128         82   68                94   \n",
       "1       29       35.4        72        135         88   78                92   \n",
       "2       32       36.0        40        125         82   72                96   \n",
       "3       39       38.6        75        122         78   68                98   \n",
       "4       32       36.1        72        138         88   82                92   \n",
       "\n",
       "   Age  Heatstroke  Gender  Smoking  Heart Disease History  Stroke History  \n",
       "0   52          24       0        0                      1               0  \n",
       "1   63          29       0        0                      0               0  \n",
       "2   30          19       1        0                      0               0  \n",
       "3   20          16       0        0                      0               0  \n",
       "4   63          39       0        0                      0               0  "
      ]
     },
     "execution_count": 84,
     "metadata": {},
     "output_type": "execute_result"
    }
   ],
   "source": [
    "df.head()"
   ]
  },
  {
   "cell_type": "code",
   "execution_count": 85,
   "metadata": {},
   "outputs": [],
   "source": [
    "from sklearn.model_selection import train_test_split"
   ]
  },
  {
   "cell_type": "code",
   "execution_count": 86,
   "metadata": {},
   "outputs": [],
   "source": [
    "X = df.drop('Heatstroke',axis=1)"
   ]
  },
  {
   "cell_type": "code",
   "execution_count": 87,
   "metadata": {},
   "outputs": [
    {
     "data": {
      "text/plain": [
       "(171, 12)"
      ]
     },
     "execution_count": 87,
     "metadata": {},
     "output_type": "execute_result"
    }
   ],
   "source": [
    "X.shape"
   ]
  },
  {
   "cell_type": "code",
   "execution_count": 88,
   "metadata": {},
   "outputs": [],
   "source": [
    "y = df['Heatstroke']"
   ]
  },
  {
   "cell_type": "code",
   "execution_count": 105,
   "metadata": {},
   "outputs": [],
   "source": [
    "X_train, X_test, y_train, y_test = train_test_split( X, y, test_size=0.25, random_state=42)"
   ]
  },
  {
   "cell_type": "code",
   "execution_count": 107,
   "metadata": {},
   "outputs": [],
   "source": [
    "from sklearn.preprocessing import StandardScaler\n",
    "sc = StandardScaler()\n",
    "X_train_scaled = sc.fit_transform(X_train)\n",
    "X_test_scaled = sc.transform(X_test)"
   ]
  },
  {
   "cell_type": "code",
   "execution_count": 108,
   "metadata": {},
   "outputs": [
    {
     "data": {
      "text/plain": [
       "145    21\n",
       "26     44\n",
       "147    36\n",
       "152    35\n",
       "159    34\n",
       "       ..\n",
       "71     41\n",
       "106    23\n",
       "14     62\n",
       "92     15\n",
       "102    26\n",
       "Name: Heatstroke, Length: 128, dtype: int64"
      ]
     },
     "execution_count": 108,
     "metadata": {},
     "output_type": "execute_result"
    }
   ],
   "source": [
    "y_train"
   ]
  },
  {
   "cell_type": "code",
   "execution_count": 109,
   "metadata": {},
   "outputs": [],
   "source": [
    "from sklearn.linear_model import LinearRegression\n",
    "from sklearn.ensemble import RandomForestRegressor\n",
    "from sklearn.svm import SVR\n",
    "from sklearn.metrics import mean_squared_error, r2_score\n",
    "\n"
   ]
  },
  {
   "cell_type": "code",
   "execution_count": 110,
   "metadata": {},
   "outputs": [
    {
     "name": "stdout",
     "output_type": "stream",
     "text": [
      "<class 'pandas.core.frame.DataFrame'>\n",
      "RangeIndex: 171 entries, 0 to 170\n",
      "Data columns (total 13 columns):\n",
      " #   Column                 Non-Null Count  Dtype  \n",
      "---  ------                 --------------  -----  \n",
      " 0   DHTTemp                171 non-null    int64  \n",
      " 1   DS18bTemp              171 non-null    float64\n",
      " 2   Humidity               171 non-null    int64  \n",
      " 3   BloodPre1              171 non-null    int64  \n",
      " 4   BloodPre2              171 non-null    int64  \n",
      " 5   BMP                    171 non-null    int64  \n",
      " 6   Oxygen Level (%)       171 non-null    int64  \n",
      " 7   Age                    171 non-null    int64  \n",
      " 8   Heatstroke             171 non-null    int64  \n",
      " 9   Gender                 171 non-null    int64  \n",
      " 10  Smoking                171 non-null    int64  \n",
      " 11  Heart Disease History  171 non-null    int64  \n",
      " 12  Stroke History         171 non-null    int64  \n",
      "dtypes: float64(1), int64(12)\n",
      "memory usage: 17.5 KB\n"
     ]
    }
   ],
   "source": [
    "df.info()"
   ]
  },
  {
   "cell_type": "code",
   "execution_count": 111,
   "metadata": {},
   "outputs": [],
   "source": [
    "import seaborn as sns"
   ]
  },
  {
   "cell_type": "code",
   "execution_count": 112,
   "metadata": {},
   "outputs": [],
   "source": [
    "# sns.pairplot(df)"
   ]
  },
  {
   "cell_type": "code",
   "execution_count": 113,
   "metadata": {},
   "outputs": [],
   "source": [
    "from sklearn.model_selection import train_test_split, GridSearchCV\n",
    "from sklearn.linear_model import LogisticRegression\n",
    "from sklearn.feature_selection import SelectKBest, chi2, f_classif"
   ]
  },
  {
   "cell_type": "code",
   "execution_count": 114,
   "metadata": {},
   "outputs": [],
   "source": [
    "# categorical_features = ['Gender', 'Smoking', 'Heart Disease History']\n",
    "# chi2_features = SelectKBest(chi2, k='all')\n",
    "# X_chi2 = chi2_features.fit_transform(X[categorical_features], y)\n",
    "\n",
    "# # For numerical features (ANOVA F-test)\n",
    "# numerical_features = ['DHTTemp', 'DS18bTemp', 'Humidity', 'BloodPre1', 'BloodPre2', 'BMP', 'Oxygen Level (%)', 'Age']\n",
    "# f_test_features = SelectKBest(f_classif, k='all')\n",
    "# X_f_test = f_test_features.fit_transform(X[numerical_features], y)\n",
    "\n",
    "# # Combine selected features\n",
    "# X_selected = pd.DataFrame(data = X_chi2, columns = categorical_features) \\\n",
    "#     .join(pd.DataFrame(data = X_f_test, columns = numerical_features))"
   ]
  },
  {
   "cell_type": "code",
   "execution_count": 115,
   "metadata": {},
   "outputs": [],
   "source": [
    "# X_selected"
   ]
  },
  {
   "cell_type": "code",
   "execution_count": 116,
   "metadata": {},
   "outputs": [
    {
     "name": "stdout",
     "output_type": "stream",
     "text": [
      "Running GridSearchCV for Linear Regression\n",
      "Running GridSearchCV for Ridge\n",
      "Running GridSearchCV for Lasso\n",
      "               Model Best Parameters   Train MSE    Test MSE  Test R^2\n",
      "0  Linear Regression              {}  167.545668  141.780042  0.675730\n",
      "1              Ridge  {'alpha': 100}  159.785395  147.940618  0.661639\n",
      "2              Lasso    {'alpha': 1}  163.769815  151.640273  0.653178\n"
     ]
    }
   ],
   "source": [
    "import pandas as pd\n",
    "from sklearn.model_selection import train_test_split, GridSearchCV\n",
    "from sklearn.linear_model import LinearRegression, Ridge, Lasso\n",
    "from sklearn.ensemble import RandomForestRegressor\n",
    "from sklearn.svm import SVR\n",
    "from sklearn.neighbors import KNeighborsRegressor\n",
    "from sklearn.tree import DecisionTreeRegressor\n",
    "from sklearn.metrics import mean_squared_error, r2_score\n",
    "\n",
    "# Assuming X_selected and y are already defined\n",
    "\n",
    "# Splitting the data into train and test sets\n",
    "X_train, X_test, y_train, y_test = train_test_split(X, y, test_size=0.20, random_state=42)\n",
    "\n",
    "# Dictionary of regression models with their parameter grids\n",
    "models = {\n",
    "    \"Linear Regression\": {\n",
    "        \"model\": LinearRegression(),\n",
    "        \"params\": {}\n",
    "    },\n",
    "    \"Ridge\": {\n",
    "        \"model\": Ridge(),\n",
    "        \"params\": {\n",
    "            'alpha': [0.01, 0.1, 1, 10, 100]\n",
    "        }\n",
    "    },\n",
    "    \"Lasso\": {\n",
    "        \"model\": Lasso(),\n",
    "        \"params\": {\n",
    "            'alpha': [0.01, 0.1, 1, 10, 100]\n",
    "        }\n",
    "    }\n",
    "}\n",
    "\n",
    "# Perform Grid Search with Cross-Validation for each model\n",
    "results = []\n",
    "for model_name, model_data in models.items():\n",
    "    print(f\"Running GridSearchCV for {model_name}\")\n",
    "    grid_search = GridSearchCV(model_data[\"model\"], model_data[\"params\"], cv=5, scoring='neg_mean_squared_error', verbose=0)\n",
    "    grid_search.fit(X_train, y_train)\n",
    "    \n",
    "    # Best parameters and best score\n",
    "    best_params = grid_search.best_params_\n",
    "    best_score = -grid_search.best_score_  # negate for MSE to get positive value\n",
    "    \n",
    "    # Evaluate on test set\n",
    "    best_model = grid_search.best_estimator_\n",
    "    y_pred = best_model.predict(X_test)\n",
    "    test_mse = mean_squared_error(y_test, y_pred)\n",
    "    test_r2 = r2_score(y_test, y_pred)\n",
    "    \n",
    "    results.append({\n",
    "        \"Model\": model_name,\n",
    "        \"Best Parameters\": best_params,\n",
    "        \"Train MSE\": best_score,\n",
    "        \"Test MSE\": test_mse,\n",
    "        \"Test R^2\": test_r2\n",
    "    })\n",
    "\n",
    "# Display results\n",
    "results_df = pd.DataFrame(results)\n",
    "print(results_df)"
   ]
  },
  {
   "cell_type": "code",
   "execution_count": 117,
   "metadata": {},
   "outputs": [
    {
     "data": {
      "text/html": [
       "<div>\n",
       "<style scoped>\n",
       "    .dataframe tbody tr th:only-of-type {\n",
       "        vertical-align: middle;\n",
       "    }\n",
       "\n",
       "    .dataframe tbody tr th {\n",
       "        vertical-align: top;\n",
       "    }\n",
       "\n",
       "    .dataframe thead th {\n",
       "        text-align: right;\n",
       "    }\n",
       "</style>\n",
       "<table border=\"1\" class=\"dataframe\">\n",
       "  <thead>\n",
       "    <tr style=\"text-align: right;\">\n",
       "      <th></th>\n",
       "      <th>Model</th>\n",
       "      <th>Best Parameters</th>\n",
       "      <th>Train MSE</th>\n",
       "      <th>Test MSE</th>\n",
       "      <th>Test R^2</th>\n",
       "    </tr>\n",
       "  </thead>\n",
       "  <tbody>\n",
       "    <tr>\n",
       "      <th>0</th>\n",
       "      <td>Linear Regression</td>\n",
       "      <td>{}</td>\n",
       "      <td>167.545668</td>\n",
       "      <td>141.780042</td>\n",
       "      <td>0.675730</td>\n",
       "    </tr>\n",
       "    <tr>\n",
       "      <th>1</th>\n",
       "      <td>Ridge</td>\n",
       "      <td>{'alpha': 100}</td>\n",
       "      <td>159.785395</td>\n",
       "      <td>147.940618</td>\n",
       "      <td>0.661639</td>\n",
       "    </tr>\n",
       "    <tr>\n",
       "      <th>2</th>\n",
       "      <td>Lasso</td>\n",
       "      <td>{'alpha': 1}</td>\n",
       "      <td>163.769815</td>\n",
       "      <td>151.640273</td>\n",
       "      <td>0.653178</td>\n",
       "    </tr>\n",
       "  </tbody>\n",
       "</table>\n",
       "</div>"
      ],
      "text/plain": [
       "               Model Best Parameters   Train MSE    Test MSE  Test R^2\n",
       "0  Linear Regression              {}  167.545668  141.780042  0.675730\n",
       "1              Ridge  {'alpha': 100}  159.785395  147.940618  0.661639\n",
       "2              Lasso    {'alpha': 1}  163.769815  151.640273  0.653178"
      ]
     },
     "execution_count": 117,
     "metadata": {},
     "output_type": "execute_result"
    }
   ],
   "source": [
    "results_df"
   ]
  },
  {
   "cell_type": "code",
   "execution_count": 119,
   "metadata": {},
   "outputs": [
    {
     "data": {
      "text/plain": [
       "Index(['DHTTemp', 'DS18bTemp', 'Humidity', 'BloodPre1', 'BloodPre2', 'BMP',\n",
       "       'Oxygen Level (%)', 'Age', 'Gender', 'Smoking', 'Heart Disease History',\n",
       "       'Stroke History'],\n",
       "      dtype='object')"
      ]
     },
     "execution_count": 119,
     "metadata": {},
     "output_type": "execute_result"
    }
   ],
   "source": [
    "X.columns"
   ]
  },
  {
   "cell_type": "code",
   "execution_count": 121,
   "metadata": {},
   "outputs": [
    {
     "data": {
      "text/plain": [
       "0.6757295472807254"
      ]
     },
     "execution_count": 121,
     "metadata": {},
     "output_type": "execute_result"
    }
   ],
   "source": [
    "model = LinearRegression()\n",
    "\n",
    "# Training the model on the entire X_selected and y\n",
    "model.fit(X_train, y_train)\n",
    "y_pred=model.predict(X_test)\n",
    "r2_score(y_test, y_pred)"
   ]
  },
  {
   "cell_type": "code",
   "execution_count": 126,
   "metadata": {},
   "outputs": [],
   "source": [
    "new_data = pd.DataFrame({\n",
    "    'DHTTemp': [],\n",
    "    'DS18bTemp': [36.5],\n",
    "    'Humidity': [70],\n",
    "    'BloodPre1': [120],\n",
    "    'BloodPre2': [80],\n",
    "    'BMP': [90],\n",
    "    'Oxygen Level (%)': [95],\n",
    "    'Age': [45],\n",
    "    'Gender': [1],  # Assuming 1 for Male, 0 for Female\n",
    "    'Smoking': [0],  # Assuming 0 for Non-Smoker, 1 for Smoker\n",
    "    'Heart Disease History': [0],  # Assuming 0 for No history, 1 for history\n",
    "    'Stroke History': [0]  # Assuming 0 for No history, 1 for history\n",
    "})\n",
    "\n",
    "# Now, use the trained model to predict\n",
    "predicted_values = model.predict(new_data)"
   ]
  },
  {
   "cell_type": "code",
   "execution_count": 128,
   "metadata": {},
   "outputs": [],
   "source": [
    "predicted_values\n",
    "import joblib"
   ]
  },
  {
   "cell_type": "code",
   "execution_count": 129,
   "metadata": {},
   "outputs": [
    {
     "data": {
      "text/plain": [
       "['stroke.pkl']"
      ]
     },
     "execution_count": 129,
     "metadata": {},
     "output_type": "execute_result"
    }
   ],
   "source": [
    "joblib.dump(model, 'stroke.pkl')"
   ]
  },
  {
   "cell_type": "code",
   "execution_count": null,
   "metadata": {},
   "outputs": [],
   "source": []
  }
 ],
 "metadata": {
  "kernelspec": {
   "display_name": "stroke",
   "language": "python",
   "name": "python3"
  },
  "language_info": {
   "codemirror_mode": {
    "name": "ipython",
    "version": 3
   },
   "file_extension": ".py",
   "mimetype": "text/x-python",
   "name": "python",
   "nbconvert_exporter": "python",
   "pygments_lexer": "ipython3",
   "version": "3.8.2"
  }
 },
 "nbformat": 4,
 "nbformat_minor": 2
}
